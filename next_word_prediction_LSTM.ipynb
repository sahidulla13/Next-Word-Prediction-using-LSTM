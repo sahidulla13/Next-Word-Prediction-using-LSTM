{
 "cells": [
  {
   "cell_type": "markdown",
   "metadata": {
    "colab": {
     "base_uri": "https://localhost:8080/"
    },
    "id": "ntopI-8L4cxc",
    "outputId": "dde7495a-25ed-4cb1-fb5c-8ab76d0d1800"
   },
   "source": [
    "# Next Word Prediction Using Stacked LSTM Networks in Deep Learning"
   ]
  },
  {
   "cell_type": "markdown",
   "metadata": {},
   "source": [
    "The text dataset is a children stories which is taken from kaggle. Using this dataset, a next word predicting model has been trained using stacked LSTM."
   ]
  },
  {
   "cell_type": "code",
   "execution_count": 3,
   "metadata": {},
   "outputs": [
    {
     "name": "stdout",
     "output_type": "stream",
     "text": [
      "Dataset URL: https://www.kaggle.com/datasets/edenbd/children-stories-text-corpus\n",
      "License(s): CC0-1.0\n",
      "children-stories-text-corpus.zip: Skipping, found more recently modified local copy (use --force to force download)\n"
     ]
    }
   ],
   "source": [
    "!kaggle datasets download -d edenbd/children-stories-text-corpus"
   ]
  },
  {
   "cell_type": "code",
   "execution_count": 4,
   "metadata": {
    "id": "oYbbzT084vs1"
   },
   "outputs": [],
   "source": [
    "import zipfile\n",
    "zip_ref=zipfile.ZipFile(\"children-stories-text-corpus.zip\",\"r\")\n",
    "zip_ref.extractall()\n",
    "zip_ref.close()"
   ]
  },
  {
   "cell_type": "code",
   "execution_count": 5,
   "metadata": {
    "id": "47wCiaLH5lTO"
   },
   "outputs": [],
   "source": [
    "import pandas as pd\n",
    "import numpy as np\n",
    "import matplotlib.pyplot as plt\n",
    "import re"
   ]
  },
  {
   "cell_type": "code",
   "execution_count": 6,
   "metadata": {
    "colab": {
     "base_uri": "https://localhost:8080/"
    },
    "id": "obAy1G_mxBR2",
    "outputId": "e38ad89d-bef4-4b32-b2a1-b02d248322d7"
   },
   "outputs": [
    {
     "name": "stdout",
     "output_type": "stream",
     "text": [
      "The Happy Prince.\n",
      "HIGH above the city, on a tall column, stood the statue of the Happy Prince.  He was gilded all over with thin leaves of fine gold, for eyes he had two bright sapphires, and a large red ruby glowed on his sword-hilt.\n",
      "He was very much admired indeed.  “He is as beautiful as a weathercock,” remarked one of the Town Councillors who wished to gain a reputation for having artistic tastes; “only not quite so useful,” he added, fearing lest people should think him unpractical, which h\n"
     ]
    }
   ],
   "source": [
    "with open('cleaned_merged_fairy_tales_without_eos.txt', 'r', encoding='UTF-8') as file:\n",
    "    content = file.read()\n",
    "print(content[:500])"
   ]
  },
  {
   "cell_type": "code",
   "execution_count": 7,
   "metadata": {
    "colab": {
     "base_uri": "https://localhost:8080/",
     "height": 36
    },
    "id": "5M6c1XBN5wl1",
    "outputId": "19ceb97e-4b8a-4032-ca5b-62c4c3184f8b"
   },
   "outputs": [],
   "source": [
    "#removing some punctuations using regex\n",
    "def reg(text):\n",
    "    pattern=r\"[^\\w\\s\\.\\,\\;]\"\n",
    "    processed=re.sub(pattern,'',text)  \n",
    "    return processed\n",
    "\n",
    "reg_text=reg(content)"
   ]
  },
  {
   "cell_type": "markdown",
   "metadata": {},
   "source": [
    "This is a huge datasets for a next word predicting model. First 1000000 strings have taken from it so that it can be handled by the system and also to train it quickly."
   ]
  },
  {
   "cell_type": "code",
   "execution_count": 9,
   "metadata": {
    "colab": {
     "base_uri": "https://localhost:8080/",
     "height": 423
    },
    "id": "ogSoiaEXAN2o",
    "outputId": "ce61f1cd-84b6-465d-937b-7596a62a3b12"
   },
   "outputs": [
    {
     "data": {
      "text/plain": [
       "'The Happy Prince. HIGH above the city, on a tall column, stood the statue of the Happy Prince.  He was gilded all over with thin leaves of fine gold, for eyes he had two bright sapphires, and a large red ruby glowed on his swordhilt. He was very much admired indeed.  He is as beautiful as a weathercock, remarked one of the Town Councillors who wished to gain a reputation for having artistic tastes; only not quite so useful, he added, fearing lest people should think him unpractical, which he really was not. Why cant you be like the Happy Prince asked a sensible mother of her little boy who was crying for the moon.  The Happy Prince never dreams of crying for anything. I am glad there is some one in the world who is quite happy, muttered a disappointed man as he gazed at the wonderful statue. He looks just like an angel, said the Charity Children as they came out of the cathedral in their bright scarlet cloaks and their clean white pinafores. How do you know said the Mathematical Master'"
      ]
     },
     "execution_count": 9,
     "metadata": {},
     "output_type": "execute_result"
    }
   ],
   "source": [
    "reg_text=reg_text.replace(\"\\n\",\" \")\n",
    "txt=reg_text[:1000000]\n",
    "txt[:1000]"
   ]
  },
  {
   "cell_type": "code",
   "execution_count": 10,
   "metadata": {},
   "outputs": [
    {
     "data": {
      "text/plain": [
       "1000000"
      ]
     },
     "execution_count": 10,
     "metadata": {},
     "output_type": "execute_result"
    }
   ],
   "source": [
    "len(txt)"
   ]
  },
  {
   "cell_type": "code",
   "execution_count": 11,
   "metadata": {
    "id": "ma7p7xrO7pg8"
   },
   "outputs": [],
   "source": [
    "import tensorflow as tf\n",
    "from tensorflow.keras.preprocessing.text import Tokenizer\n",
    "from tensorflow.keras.preprocessing.sequence import pad_sequences\n",
    "from tensorflow.keras.utils import to_categorical"
   ]
  },
  {
   "cell_type": "markdown",
   "metadata": {},
   "source": [
    "For vectorization, \"Tokenizer\" object has been used. \"fit_on_texts\" function allocated a number for each word in that text."
   ]
  },
  {
   "cell_type": "code",
   "execution_count": 13,
   "metadata": {
    "id": "QNcjNoTF9I3q"
   },
   "outputs": [],
   "source": [
    "token=Tokenizer()\n",
    "token.fit_on_texts([txt])"
   ]
  },
  {
   "cell_type": "code",
   "execution_count": 80,
   "metadata": {
    "id": "pWbB3o0r9iWo"
   },
   "outputs": [],
   "source": [
    "# Showing index of word\n",
    "token_word=token.word_index"
   ]
  },
  {
   "cell_type": "markdown",
   "metadata": {},
   "source": [
    "\"texts_to_sequences\" function converted the text into a list of tokens corresponding the word."
   ]
  },
  {
   "cell_type": "code",
   "execution_count": 16,
   "metadata": {
    "id": "aweMGf1U9pTe"
   },
   "outputs": [
    {
     "data": {
      "text/plain": [
       "191738"
      ]
     },
     "execution_count": 16,
     "metadata": {},
     "output_type": "execute_result"
    }
   ],
   "source": [
    "token_line=token.texts_to_sequences([txt])[0]\n",
    "token_len=len(token_line)\n",
    "token_len"
   ]
  },
  {
   "cell_type": "code",
   "execution_count": 82,
   "metadata": {},
   "outputs": [
    {
     "data": {
      "text/plain": [
       "[1, 209, 72, 302, 444, 1, 583, 29, 4, 1030, 3394, 182, 1, 1283, 5]"
      ]
     },
     "execution_count": 82,
     "metadata": {},
     "output_type": "execute_result"
    }
   ],
   "source": [
    "token_line[:15]"
   ]
  },
  {
   "cell_type": "markdown",
   "metadata": {},
   "source": [
    "The whole token sequences have been made a array having (n,4) dimension. So that for every row first three elements can be used as input and fourth element as output."
   ]
  },
  {
   "cell_type": "code",
   "execution_count": 86,
   "metadata": {},
   "outputs": [
    {
     "data": {
      "text/plain": [
       "[[1, 209, 72, 302],\n",
       " [209, 72, 302, 444],\n",
       " [72, 302, 444, 1],\n",
       " [302, 444, 1, 583],\n",
       " [444, 1, 583, 29],\n",
       " [1, 583, 29, 4],\n",
       " [583, 29, 4, 1030],\n",
       " [29, 4, 1030, 3394],\n",
       " [4, 1030, 3394, 182],\n",
       " [1030, 3394, 182, 1]]"
      ]
     },
     "execution_count": 86,
     "metadata": {},
     "output_type": "execute_result"
    }
   ],
   "source": [
    "input=[]\n",
    "for i in range(4*(token_len//4)-3):\n",
    "    input.append(token_line[i:i+4])\n",
    "input[:10]"
   ]
  },
  {
   "cell_type": "markdown",
   "metadata": {},
   "source": [
    "Here the splitting has been done which was stated above. \"x\" is the input and \"y_\" is the output."
   ]
  },
  {
   "cell_type": "code",
   "execution_count": 21,
   "metadata": {
    "colab": {
     "base_uri": "https://localhost:8080/"
    },
    "id": "hp7wKclsWse2",
    "outputId": "3087d2ac-afcc-4868-cc9f-d89f5eccd1cc"
   },
   "outputs": [
    {
     "name": "stdout",
     "output_type": "stream",
     "text": [
      "shape of x: (191733, 3)\n",
      "shape of y: (191733,)\n"
     ]
    }
   ],
   "source": [
    "x=[]\n",
    "y_=[]\n",
    "\n",
    "for i in input:\n",
    "    x.append(i[:-1])\n",
    "    y_.append(i[-1])\n",
    "x=np.array(x)\n",
    "y_=np.array(y_)\n",
    "print(f\"shape of x: {x.shape}\")\n",
    "print(f\"shape of y: {y_.shape}\")"
   ]
  },
  {
   "cell_type": "code",
   "execution_count": 22,
   "metadata": {
    "colab": {
     "base_uri": "https://localhost:8080/"
    },
    "id": "69wPsOC2kfzb",
    "outputId": "ffdf6cfe-2127-4b92-fc12-8b37c83e8e66"
   },
   "outputs": [
    {
     "name": "stdout",
     "output_type": "stream",
     "text": [
      "total column in x: 3\n"
     ]
    }
   ],
   "source": [
    "x_col=x.shape[1]\n",
    "print(f\"total column in x: {x_col}\")"
   ]
  },
  {
   "cell_type": "markdown",
   "metadata": {},
   "source": [
    "We can notice that token started from 1. So to include 0, \"+1\" business has been done here."
   ]
  },
  {
   "cell_type": "code",
   "execution_count": 24,
   "metadata": {
    "id": "PqO5KOeBdM1r"
   },
   "outputs": [
    {
     "data": {
      "text/plain": [
       "9234"
      ]
     },
     "execution_count": 24,
     "metadata": {},
     "output_type": "execute_result"
    }
   ],
   "source": [
    "total_word=len(token.word_index)\n",
    "total_word=total_word+1\n",
    "total_word"
   ]
  },
  {
   "cell_type": "markdown",
   "metadata": {},
   "source": [
    "This is a multiclass classification. So the output can't be just a number. So, the categorization has been done using \"to_categorical\" function. Also notice that, the output can be any word from our word vocabulary. so, the \"total_word\" has been taken as length of one output.  "
   ]
  },
  {
   "cell_type": "code",
   "execution_count": 26,
   "metadata": {
    "colab": {
     "base_uri": "https://localhost:8080/"
    },
    "id": "QNlPjXvBg5Lh",
    "outputId": "2893fbfc-769e-4355-cf81-550d4b26709f"
   },
   "outputs": [
    {
     "data": {
      "text/plain": [
       "(191733, 9234)"
      ]
     },
     "execution_count": 26,
     "metadata": {},
     "output_type": "execute_result"
    }
   ],
   "source": [
    "y=to_categorical(y_,num_classes=total_word)\n",
    "y.shape"
   ]
  },
  {
   "cell_type": "code",
   "execution_count": 27,
   "metadata": {
    "id": "utseEr3-hUSX"
   },
   "outputs": [],
   "source": [
    "from tensorflow import keras\n",
    "from keras import Sequential\n",
    "from keras.layers import Dense, LSTM, Embedding,Dropout"
   ]
  },
  {
   "cell_type": "markdown",
   "metadata": {},
   "source": [
    "1. Word embedding has been done to create a array corresponding every unique word/token.\n",
    "2. Then LSTM layers have been used for finding the pattern.\n",
    "3. To reduce overfitting droupout has been used.\n",
    "4. As activation function, Softmax has been used because it is a multiclass classification problem."
   ]
  },
  {
   "cell_type": "code",
   "execution_count": 29,
   "metadata": {
    "colab": {
     "base_uri": "https://localhost:8080/",
     "height": 229
    },
    "id": "_ppwSJ7Hj4nU",
    "outputId": "6e03af0b-604f-4031-df1b-14e3021dba17"
   },
   "outputs": [
    {
     "data": {
      "text/html": [
       "<pre style=\"white-space:pre;overflow-x:auto;line-height:normal;font-family:Menlo,'DejaVu Sans Mono',consolas,'Courier New',monospace\"><span style=\"font-weight: bold\">Model: \"sequential\"</span>\n",
       "</pre>\n"
      ],
      "text/plain": [
       "\u001b[1mModel: \"sequential\"\u001b[0m\n"
      ]
     },
     "metadata": {},
     "output_type": "display_data"
    },
    {
     "data": {
      "text/html": [
       "<pre style=\"white-space:pre;overflow-x:auto;line-height:normal;font-family:Menlo,'DejaVu Sans Mono',consolas,'Courier New',monospace\">┏━━━━━━━━━━━━━━━━━━━━━━━━━━━━━━━━━┳━━━━━━━━━━━━━━━━━━━━━━━━┳━━━━━━━━━━━━━━━┓\n",
       "┃<span style=\"font-weight: bold\"> Layer (type)                    </span>┃<span style=\"font-weight: bold\"> Output Shape           </span>┃<span style=\"font-weight: bold\">       Param # </span>┃\n",
       "┡━━━━━━━━━━━━━━━━━━━━━━━━━━━━━━━━━╇━━━━━━━━━━━━━━━━━━━━━━━━╇━━━━━━━━━━━━━━━┩\n",
       "│ embedding (<span style=\"color: #0087ff; text-decoration-color: #0087ff\">Embedding</span>)           │ (<span style=\"color: #00d7ff; text-decoration-color: #00d7ff\">None</span>, <span style=\"color: #00af00; text-decoration-color: #00af00\">3</span>, <span style=\"color: #00af00; text-decoration-color: #00af00\">100</span>)         │       <span style=\"color: #00af00; text-decoration-color: #00af00\">923,400</span> │\n",
       "├─────────────────────────────────┼────────────────────────┼───────────────┤\n",
       "│ lstm (<span style=\"color: #0087ff; text-decoration-color: #0087ff\">LSTM</span>)                     │ (<span style=\"color: #00d7ff; text-decoration-color: #00d7ff\">None</span>, <span style=\"color: #00af00; text-decoration-color: #00af00\">3</span>, <span style=\"color: #00af00; text-decoration-color: #00af00\">500</span>)         │     <span style=\"color: #00af00; text-decoration-color: #00af00\">1,202,000</span> │\n",
       "├─────────────────────────────────┼────────────────────────┼───────────────┤\n",
       "│ lstm_1 (<span style=\"color: #0087ff; text-decoration-color: #0087ff\">LSTM</span>)                   │ (<span style=\"color: #00d7ff; text-decoration-color: #00d7ff\">None</span>, <span style=\"color: #00af00; text-decoration-color: #00af00\">500</span>)            │     <span style=\"color: #00af00; text-decoration-color: #00af00\">2,002,000</span> │\n",
       "├─────────────────────────────────┼────────────────────────┼───────────────┤\n",
       "│ dropout (<span style=\"color: #0087ff; text-decoration-color: #0087ff\">Dropout</span>)               │ (<span style=\"color: #00d7ff; text-decoration-color: #00d7ff\">None</span>, <span style=\"color: #00af00; text-decoration-color: #00af00\">500</span>)            │             <span style=\"color: #00af00; text-decoration-color: #00af00\">0</span> │\n",
       "├─────────────────────────────────┼────────────────────────┼───────────────┤\n",
       "│ dense (<span style=\"color: #0087ff; text-decoration-color: #0087ff\">Dense</span>)                   │ (<span style=\"color: #00d7ff; text-decoration-color: #00d7ff\">None</span>, <span style=\"color: #00af00; text-decoration-color: #00af00\">9234</span>)           │     <span style=\"color: #00af00; text-decoration-color: #00af00\">4,626,234</span> │\n",
       "└─────────────────────────────────┴────────────────────────┴───────────────┘\n",
       "</pre>\n"
      ],
      "text/plain": [
       "┏━━━━━━━━━━━━━━━━━━━━━━━━━━━━━━━━━┳━━━━━━━━━━━━━━━━━━━━━━━━┳━━━━━━━━━━━━━━━┓\n",
       "┃\u001b[1m \u001b[0m\u001b[1mLayer (type)                   \u001b[0m\u001b[1m \u001b[0m┃\u001b[1m \u001b[0m\u001b[1mOutput Shape          \u001b[0m\u001b[1m \u001b[0m┃\u001b[1m \u001b[0m\u001b[1m      Param #\u001b[0m\u001b[1m \u001b[0m┃\n",
       "┡━━━━━━━━━━━━━━━━━━━━━━━━━━━━━━━━━╇━━━━━━━━━━━━━━━━━━━━━━━━╇━━━━━━━━━━━━━━━┩\n",
       "│ embedding (\u001b[38;5;33mEmbedding\u001b[0m)           │ (\u001b[38;5;45mNone\u001b[0m, \u001b[38;5;34m3\u001b[0m, \u001b[38;5;34m100\u001b[0m)         │       \u001b[38;5;34m923,400\u001b[0m │\n",
       "├─────────────────────────────────┼────────────────────────┼───────────────┤\n",
       "│ lstm (\u001b[38;5;33mLSTM\u001b[0m)                     │ (\u001b[38;5;45mNone\u001b[0m, \u001b[38;5;34m3\u001b[0m, \u001b[38;5;34m500\u001b[0m)         │     \u001b[38;5;34m1,202,000\u001b[0m │\n",
       "├─────────────────────────────────┼────────────────────────┼───────────────┤\n",
       "│ lstm_1 (\u001b[38;5;33mLSTM\u001b[0m)                   │ (\u001b[38;5;45mNone\u001b[0m, \u001b[38;5;34m500\u001b[0m)            │     \u001b[38;5;34m2,002,000\u001b[0m │\n",
       "├─────────────────────────────────┼────────────────────────┼───────────────┤\n",
       "│ dropout (\u001b[38;5;33mDropout\u001b[0m)               │ (\u001b[38;5;45mNone\u001b[0m, \u001b[38;5;34m500\u001b[0m)            │             \u001b[38;5;34m0\u001b[0m │\n",
       "├─────────────────────────────────┼────────────────────────┼───────────────┤\n",
       "│ dense (\u001b[38;5;33mDense\u001b[0m)                   │ (\u001b[38;5;45mNone\u001b[0m, \u001b[38;5;34m9234\u001b[0m)           │     \u001b[38;5;34m4,626,234\u001b[0m │\n",
       "└─────────────────────────────────┴────────────────────────┴───────────────┘\n"
      ]
     },
     "metadata": {},
     "output_type": "display_data"
    },
    {
     "data": {
      "text/html": [
       "<pre style=\"white-space:pre;overflow-x:auto;line-height:normal;font-family:Menlo,'DejaVu Sans Mono',consolas,'Courier New',monospace\"><span style=\"font-weight: bold\"> Total params: </span><span style=\"color: #00af00; text-decoration-color: #00af00\">8,753,634</span> (33.39 MB)\n",
       "</pre>\n"
      ],
      "text/plain": [
       "\u001b[1m Total params: \u001b[0m\u001b[38;5;34m8,753,634\u001b[0m (33.39 MB)\n"
      ]
     },
     "metadata": {},
     "output_type": "display_data"
    },
    {
     "data": {
      "text/html": [
       "<pre style=\"white-space:pre;overflow-x:auto;line-height:normal;font-family:Menlo,'DejaVu Sans Mono',consolas,'Courier New',monospace\"><span style=\"font-weight: bold\"> Trainable params: </span><span style=\"color: #00af00; text-decoration-color: #00af00\">8,753,634</span> (33.39 MB)\n",
       "</pre>\n"
      ],
      "text/plain": [
       "\u001b[1m Trainable params: \u001b[0m\u001b[38;5;34m8,753,634\u001b[0m (33.39 MB)\n"
      ]
     },
     "metadata": {},
     "output_type": "display_data"
    },
    {
     "data": {
      "text/html": [
       "<pre style=\"white-space:pre;overflow-x:auto;line-height:normal;font-family:Menlo,'DejaVu Sans Mono',consolas,'Courier New',monospace\"><span style=\"font-weight: bold\"> Non-trainable params: </span><span style=\"color: #00af00; text-decoration-color: #00af00\">0</span> (0.00 B)\n",
       "</pre>\n"
      ],
      "text/plain": [
       "\u001b[1m Non-trainable params: \u001b[0m\u001b[38;5;34m0\u001b[0m (0.00 B)\n"
      ]
     },
     "metadata": {},
     "output_type": "display_data"
    }
   ],
   "source": [
    "model=Sequential()\n",
    "\n",
    "model.add(keras.Input(shape=(x_col,)))\n",
    "model.add(Embedding(total_word,100))\n",
    "model.add(LSTM(500, return_sequences=True))\n",
    "model.add(LSTM(500))\n",
    "model.add(Dropout(0.5))\n",
    "model.add(Dense(total_word,activation=\"softmax\"))\n",
    "\n",
    "model.summary()"
   ]
  },
  {
   "cell_type": "code",
   "execution_count": 30,
   "metadata": {
    "id": "I6MguGAHkx4M"
   },
   "outputs": [],
   "source": [
    "model.compile(optimizer=\"adam\",loss=\"categorical_crossentropy\",metrics=[\"accuracy\"])"
   ]
  },
  {
   "cell_type": "code",
   "execution_count": 31,
   "metadata": {},
   "outputs": [],
   "source": [
    "# Using earlystopping to save from overfitting\n",
    "\n",
    "callback=keras.callbacks.EarlyStopping(\n",
    "    monitor=\"loss\",\n",
    "    min_delta=0,\n",
    "    patience=0,\n",
    "    verbose=1,\n",
    "    mode=\"auto\",\n",
    "    baseline=None,\n",
    ")"
   ]
  },
  {
   "cell_type": "code",
   "execution_count": 32,
   "metadata": {
    "colab": {
     "base_uri": "https://localhost:8080/",
     "height": 314
    },
    "id": "OdNQqQ0MnjiJ",
    "outputId": "5804ba3a-d0c0-48c2-b1c2-6288b06c751b"
   },
   "outputs": [
    {
     "name": "stdout",
     "output_type": "stream",
     "text": [
      "Epoch 1/100\n",
      "\u001b[1m3835/3835\u001b[0m \u001b[32m━━━━━━━━━━━━━━━━━━━━\u001b[0m\u001b[37m\u001b[0m \u001b[1m91s\u001b[0m 23ms/step - accuracy: 0.0769 - loss: 6.3871\n",
      "Epoch 2/100\n",
      "\u001b[1m3835/3835\u001b[0m \u001b[32m━━━━━━━━━━━━━━━━━━━━\u001b[0m\u001b[37m\u001b[0m \u001b[1m84s\u001b[0m 22ms/step - accuracy: 0.1233 - loss: 5.5513\n",
      "Epoch 3/100\n",
      "\u001b[1m3835/3835\u001b[0m \u001b[32m━━━━━━━━━━━━━━━━━━━━\u001b[0m\u001b[37m\u001b[0m \u001b[1m85s\u001b[0m 22ms/step - accuracy: 0.1438 - loss: 5.2408\n",
      "Epoch 4/100\n",
      "\u001b[1m3835/3835\u001b[0m \u001b[32m━━━━━━━━━━━━━━━━━━━━\u001b[0m\u001b[37m\u001b[0m \u001b[1m85s\u001b[0m 22ms/step - accuracy: 0.1580 - loss: 5.0369\n",
      "Epoch 5/100\n",
      "\u001b[1m3835/3835\u001b[0m \u001b[32m━━━━━━━━━━━━━━━━━━━━\u001b[0m\u001b[37m\u001b[0m \u001b[1m84s\u001b[0m 22ms/step - accuracy: 0.1695 - loss: 4.8613\n",
      "Epoch 6/100\n",
      "\u001b[1m3835/3835\u001b[0m \u001b[32m━━━━━━━━━━━━━━━━━━━━\u001b[0m\u001b[37m\u001b[0m \u001b[1m85s\u001b[0m 22ms/step - accuracy: 0.1847 - loss: 4.6762\n",
      "Epoch 7/100\n",
      "\u001b[1m3835/3835\u001b[0m \u001b[32m━━━━━━━━━━━━━━━━━━━━\u001b[0m\u001b[37m\u001b[0m \u001b[1m84s\u001b[0m 22ms/step - accuracy: 0.1975 - loss: 4.5126\n",
      "Epoch 8/100\n",
      "\u001b[1m3835/3835\u001b[0m \u001b[32m━━━━━━━━━━━━━━━━━━━━\u001b[0m\u001b[37m\u001b[0m \u001b[1m84s\u001b[0m 22ms/step - accuracy: 0.2139 - loss: 4.3399\n",
      "Epoch 9/100\n",
      "\u001b[1m3835/3835\u001b[0m \u001b[32m━━━━━━━━━━━━━━━━━━━━\u001b[0m\u001b[37m\u001b[0m \u001b[1m85s\u001b[0m 22ms/step - accuracy: 0.2347 - loss: 4.1209\n",
      "Epoch 10/100\n",
      "\u001b[1m3835/3835\u001b[0m \u001b[32m━━━━━━━━━━━━━━━━━━━━\u001b[0m\u001b[37m\u001b[0m \u001b[1m85s\u001b[0m 22ms/step - accuracy: 0.2541 - loss: 3.9301\n",
      "Epoch 11/100\n",
      "\u001b[1m3835/3835\u001b[0m \u001b[32m━━━━━━━━━━━━━━━━━━━━\u001b[0m\u001b[37m\u001b[0m \u001b[1m85s\u001b[0m 22ms/step - accuracy: 0.2750 - loss: 3.7294\n",
      "Epoch 12/100\n",
      "\u001b[1m3835/3835\u001b[0m \u001b[32m━━━━━━━━━━━━━━━━━━━━\u001b[0m\u001b[37m\u001b[0m \u001b[1m84s\u001b[0m 22ms/step - accuracy: 0.2982 - loss: 3.5363\n",
      "Epoch 13/100\n",
      "\u001b[1m3835/3835\u001b[0m \u001b[32m━━━━━━━━━━━━━━━━━━━━\u001b[0m\u001b[37m\u001b[0m \u001b[1m84s\u001b[0m 22ms/step - accuracy: 0.3224 - loss: 3.3371\n",
      "Epoch 14/100\n",
      "\u001b[1m3835/3835\u001b[0m \u001b[32m━━━━━━━━━━━━━━━━━━━━\u001b[0m\u001b[37m\u001b[0m \u001b[1m84s\u001b[0m 22ms/step - accuracy: 0.3485 - loss: 3.1553\n",
      "Epoch 15/100\n",
      "\u001b[1m3835/3835\u001b[0m \u001b[32m━━━━━━━━━━━━━━━━━━━━\u001b[0m\u001b[37m\u001b[0m \u001b[1m84s\u001b[0m 22ms/step - accuracy: 0.3698 - loss: 2.9869\n",
      "Epoch 16/100\n",
      "\u001b[1m3835/3835\u001b[0m \u001b[32m━━━━━━━━━━━━━━━━━━━━\u001b[0m\u001b[37m\u001b[0m \u001b[1m84s\u001b[0m 22ms/step - accuracy: 0.3923 - loss: 2.8340\n",
      "Epoch 17/100\n",
      "\u001b[1m3835/3835\u001b[0m \u001b[32m━━━━━━━━━━━━━━━━━━━━\u001b[0m\u001b[37m\u001b[0m \u001b[1m84s\u001b[0m 22ms/step - accuracy: 0.4157 - loss: 2.6872\n",
      "Epoch 18/100\n",
      "\u001b[1m3835/3835\u001b[0m \u001b[32m━━━━━━━━━━━━━━━━━━━━\u001b[0m\u001b[37m\u001b[0m \u001b[1m84s\u001b[0m 22ms/step - accuracy: 0.4401 - loss: 2.5372\n",
      "Epoch 19/100\n",
      "\u001b[1m3835/3835\u001b[0m \u001b[32m━━━━━━━━━━━━━━━━━━━━\u001b[0m\u001b[37m\u001b[0m \u001b[1m84s\u001b[0m 22ms/step - accuracy: 0.4586 - loss: 2.4299\n",
      "Epoch 20/100\n",
      "\u001b[1m3835/3835\u001b[0m \u001b[32m━━━━━━━━━━━━━━━━━━━━\u001b[0m\u001b[37m\u001b[0m \u001b[1m84s\u001b[0m 22ms/step - accuracy: 0.4770 - loss: 2.3188\n",
      "Epoch 21/100\n",
      "\u001b[1m3835/3835\u001b[0m \u001b[32m━━━━━━━━━━━━━━━━━━━━\u001b[0m\u001b[37m\u001b[0m \u001b[1m85s\u001b[0m 22ms/step - accuracy: 0.4925 - loss: 2.2187\n",
      "Epoch 22/100\n",
      "\u001b[1m3835/3835\u001b[0m \u001b[32m━━━━━━━━━━━━━━━━━━━━\u001b[0m\u001b[37m\u001b[0m \u001b[1m85s\u001b[0m 22ms/step - accuracy: 0.5114 - loss: 2.1239\n",
      "Epoch 23/100\n",
      "\u001b[1m3835/3835\u001b[0m \u001b[32m━━━━━━━━━━━━━━━━━━━━\u001b[0m\u001b[37m\u001b[0m \u001b[1m84s\u001b[0m 22ms/step - accuracy: 0.5257 - loss: 2.0466\n",
      "Epoch 24/100\n",
      "\u001b[1m3835/3835\u001b[0m \u001b[32m━━━━━━━━━━━━━━━━━━━━\u001b[0m\u001b[37m\u001b[0m \u001b[1m85s\u001b[0m 22ms/step - accuracy: 0.5382 - loss: 1.9759\n",
      "Epoch 25/100\n",
      "\u001b[1m3835/3835\u001b[0m \u001b[32m━━━━━━━━━━━━━━━━━━━━\u001b[0m\u001b[37m\u001b[0m \u001b[1m84s\u001b[0m 22ms/step - accuracy: 0.5516 - loss: 1.9074\n",
      "Epoch 26/100\n",
      "\u001b[1m3835/3835\u001b[0m \u001b[32m━━━━━━━━━━━━━━━━━━━━\u001b[0m\u001b[37m\u001b[0m \u001b[1m84s\u001b[0m 22ms/step - accuracy: 0.5618 - loss: 1.8515\n",
      "Epoch 27/100\n",
      "\u001b[1m3835/3835\u001b[0m \u001b[32m━━━━━━━━━━━━━━━━━━━━\u001b[0m\u001b[37m\u001b[0m \u001b[1m84s\u001b[0m 22ms/step - accuracy: 0.5751 - loss: 1.7843\n",
      "Epoch 28/100\n",
      "\u001b[1m3835/3835\u001b[0m \u001b[32m━━━━━━━━━━━━━━━━━━━━\u001b[0m\u001b[37m\u001b[0m \u001b[1m84s\u001b[0m 22ms/step - accuracy: 0.5834 - loss: 1.7408\n",
      "Epoch 29/100\n",
      "\u001b[1m3835/3835\u001b[0m \u001b[32m━━━━━━━━━━━━━━━━━━━━\u001b[0m\u001b[37m\u001b[0m \u001b[1m84s\u001b[0m 22ms/step - accuracy: 0.5942 - loss: 1.6854\n",
      "Epoch 30/100\n",
      "\u001b[1m3835/3835\u001b[0m \u001b[32m━━━━━━━━━━━━━━━━━━━━\u001b[0m\u001b[37m\u001b[0m \u001b[1m84s\u001b[0m 22ms/step - accuracy: 0.6022 - loss: 1.6497\n",
      "Epoch 31/100\n",
      "\u001b[1m3835/3835\u001b[0m \u001b[32m━━━━━━━━━━━━━━━━━━━━\u001b[0m\u001b[37m\u001b[0m \u001b[1m84s\u001b[0m 22ms/step - accuracy: 0.6122 - loss: 1.6019\n",
      "Epoch 32/100\n",
      "\u001b[1m3835/3835\u001b[0m \u001b[32m━━━━━━━━━━━━━━━━━━━━\u001b[0m\u001b[37m\u001b[0m \u001b[1m84s\u001b[0m 22ms/step - accuracy: 0.6188 - loss: 1.5692\n",
      "Epoch 33/100\n",
      "\u001b[1m3835/3835\u001b[0m \u001b[32m━━━━━━━━━━━━━━━━━━━━\u001b[0m\u001b[37m\u001b[0m \u001b[1m85s\u001b[0m 22ms/step - accuracy: 0.6251 - loss: 1.5361\n",
      "Epoch 34/100\n",
      "\u001b[1m3835/3835\u001b[0m \u001b[32m━━━━━━━━━━━━━━━━━━━━\u001b[0m\u001b[37m\u001b[0m \u001b[1m85s\u001b[0m 22ms/step - accuracy: 0.6307 - loss: 1.5145\n",
      "Epoch 35/100\n",
      "\u001b[1m3835/3835\u001b[0m \u001b[32m━━━━━━━━━━━━━━━━━━━━\u001b[0m\u001b[37m\u001b[0m \u001b[1m85s\u001b[0m 22ms/step - accuracy: 0.6376 - loss: 1.4801\n",
      "Epoch 36/100\n",
      "\u001b[1m3835/3835\u001b[0m \u001b[32m━━━━━━━━━━━━━━━━━━━━\u001b[0m\u001b[37m\u001b[0m \u001b[1m85s\u001b[0m 22ms/step - accuracy: 0.6398 - loss: 1.4636\n",
      "Epoch 37/100\n",
      "\u001b[1m3835/3835\u001b[0m \u001b[32m━━━━━━━━━━━━━━━━━━━━\u001b[0m\u001b[37m\u001b[0m \u001b[1m85s\u001b[0m 22ms/step - accuracy: 0.6504 - loss: 1.4291\n",
      "Epoch 38/100\n",
      "\u001b[1m3835/3835\u001b[0m \u001b[32m━━━━━━━━━━━━━━━━━━━━\u001b[0m\u001b[37m\u001b[0m \u001b[1m85s\u001b[0m 22ms/step - accuracy: 0.6529 - loss: 1.4041\n",
      "Epoch 39/100\n",
      "\u001b[1m3835/3835\u001b[0m \u001b[32m━━━━━━━━━━━━━━━━━━━━\u001b[0m\u001b[37m\u001b[0m \u001b[1m85s\u001b[0m 22ms/step - accuracy: 0.6552 - loss: 1.3991\n",
      "Epoch 40/100\n",
      "\u001b[1m3835/3835\u001b[0m \u001b[32m━━━━━━━━━━━━━━━━━━━━\u001b[0m\u001b[37m\u001b[0m \u001b[1m85s\u001b[0m 22ms/step - accuracy: 0.6603 - loss: 1.3692\n",
      "Epoch 41/100\n",
      "\u001b[1m3835/3835\u001b[0m \u001b[32m━━━━━━━━━━━━━━━━━━━━\u001b[0m\u001b[37m\u001b[0m \u001b[1m85s\u001b[0m 22ms/step - accuracy: 0.6647 - loss: 1.3548\n",
      "Epoch 42/100\n",
      "\u001b[1m3835/3835\u001b[0m \u001b[32m━━━━━━━━━━━━━━━━━━━━\u001b[0m\u001b[37m\u001b[0m \u001b[1m85s\u001b[0m 22ms/step - accuracy: 0.6697 - loss: 1.3377\n",
      "Epoch 43/100\n",
      "\u001b[1m3835/3835\u001b[0m \u001b[32m━━━━━━━━━━━━━━━━━━━━\u001b[0m\u001b[37m\u001b[0m \u001b[1m85s\u001b[0m 22ms/step - accuracy: 0.6710 - loss: 1.3197\n",
      "Epoch 44/100\n",
      "\u001b[1m3835/3835\u001b[0m \u001b[32m━━━━━━━━━━━━━━━━━━━━\u001b[0m\u001b[37m\u001b[0m \u001b[1m85s\u001b[0m 22ms/step - accuracy: 0.6739 - loss: 1.3091\n",
      "Epoch 45/100\n",
      "\u001b[1m3835/3835\u001b[0m \u001b[32m━━━━━━━━━━━━━━━━━━━━\u001b[0m\u001b[37m\u001b[0m \u001b[1m85s\u001b[0m 22ms/step - accuracy: 0.6807 - loss: 1.2867\n",
      "Epoch 46/100\n",
      "\u001b[1m3835/3835\u001b[0m \u001b[32m━━━━━━━━━━━━━━━━━━━━\u001b[0m\u001b[37m\u001b[0m \u001b[1m85s\u001b[0m 22ms/step - accuracy: 0.6815 - loss: 1.2789\n",
      "Epoch 47/100\n",
      "\u001b[1m3835/3835\u001b[0m \u001b[32m━━━━━━━━━━━━━━━━━━━━\u001b[0m\u001b[37m\u001b[0m \u001b[1m87s\u001b[0m 23ms/step - accuracy: 0.6843 - loss: 1.2661\n",
      "Epoch 48/100\n",
      "\u001b[1m3835/3835\u001b[0m \u001b[32m━━━━━━━━━━━━━━━━━━━━\u001b[0m\u001b[37m\u001b[0m \u001b[1m85s\u001b[0m 22ms/step - accuracy: 0.6824 - loss: 1.2662\n",
      "Epoch 49/100\n",
      "\u001b[1m3835/3835\u001b[0m \u001b[32m━━━━━━━━━━━━━━━━━━━━\u001b[0m\u001b[37m\u001b[0m \u001b[1m85s\u001b[0m 22ms/step - accuracy: 0.6876 - loss: 1.2453\n",
      "Epoch 50/100\n",
      "\u001b[1m3835/3835\u001b[0m \u001b[32m━━━━━━━━━━━━━━━━━━━━\u001b[0m\u001b[37m\u001b[0m \u001b[1m85s\u001b[0m 22ms/step - accuracy: 0.6886 - loss: 1.2447\n",
      "Epoch 51/100\n",
      "\u001b[1m3835/3835\u001b[0m \u001b[32m━━━━━━━━━━━━━━━━━━━━\u001b[0m\u001b[37m\u001b[0m \u001b[1m85s\u001b[0m 22ms/step - accuracy: 0.6930 - loss: 1.2282\n",
      "Epoch 52/100\n",
      "\u001b[1m3835/3835\u001b[0m \u001b[32m━━━━━━━━━━━━━━━━━━━━\u001b[0m\u001b[37m\u001b[0m \u001b[1m85s\u001b[0m 22ms/step - accuracy: 0.6937 - loss: 1.2273\n",
      "Epoch 53/100\n",
      "\u001b[1m3835/3835\u001b[0m \u001b[32m━━━━━━━━━━━━━━━━━━━━\u001b[0m\u001b[37m\u001b[0m \u001b[1m84s\u001b[0m 22ms/step - accuracy: 0.6964 - loss: 1.2117\n",
      "Epoch 54/100\n",
      "\u001b[1m3835/3835\u001b[0m \u001b[32m━━━━━━━━━━━━━━━━━━━━\u001b[0m\u001b[37m\u001b[0m \u001b[1m84s\u001b[0m 22ms/step - accuracy: 0.6995 - loss: 1.2020\n",
      "Epoch 55/100\n",
      "\u001b[1m3835/3835\u001b[0m \u001b[32m━━━━━━━━━━━━━━━━━━━━\u001b[0m\u001b[37m\u001b[0m \u001b[1m85s\u001b[0m 22ms/step - accuracy: 0.7003 - loss: 1.1905\n",
      "Epoch 56/100\n",
      "\u001b[1m3835/3835\u001b[0m \u001b[32m━━━━━━━━━━━━━━━━━━━━\u001b[0m\u001b[37m\u001b[0m \u001b[1m85s\u001b[0m 22ms/step - accuracy: 0.7018 - loss: 1.1909\n",
      "Epoch 57/100\n",
      "\u001b[1m3835/3835\u001b[0m \u001b[32m━━━━━━━━━━━━━━━━━━━━\u001b[0m\u001b[37m\u001b[0m \u001b[1m85s\u001b[0m 22ms/step - accuracy: 0.7035 - loss: 1.1760\n",
      "Epoch 58/100\n",
      "\u001b[1m3835/3835\u001b[0m \u001b[32m━━━━━━━━━━━━━━━━━━━━\u001b[0m\u001b[37m\u001b[0m \u001b[1m85s\u001b[0m 22ms/step - accuracy: 0.7062 - loss: 1.1693\n",
      "Epoch 59/100\n",
      "\u001b[1m3835/3835\u001b[0m \u001b[32m━━━━━━━━━━━━━━━━━━━━\u001b[0m\u001b[37m\u001b[0m \u001b[1m85s\u001b[0m 22ms/step - accuracy: 0.7079 - loss: 1.1629\n",
      "Epoch 60/100\n",
      "\u001b[1m3835/3835\u001b[0m \u001b[32m━━━━━━━━━━━━━━━━━━━━\u001b[0m\u001b[37m\u001b[0m \u001b[1m85s\u001b[0m 22ms/step - accuracy: 0.7101 - loss: 1.1594\n",
      "Epoch 61/100\n",
      "\u001b[1m3835/3835\u001b[0m \u001b[32m━━━━━━━━━━━━━━━━━━━━\u001b[0m\u001b[37m\u001b[0m \u001b[1m85s\u001b[0m 22ms/step - accuracy: 0.7091 - loss: 1.1481\n",
      "Epoch 62/100\n",
      "\u001b[1m3835/3835\u001b[0m \u001b[32m━━━━━━━━━━━━━━━━━━━━\u001b[0m\u001b[37m\u001b[0m \u001b[1m85s\u001b[0m 22ms/step - accuracy: 0.7126 - loss: 1.1439\n",
      "Epoch 63/100\n",
      "\u001b[1m3835/3835\u001b[0m \u001b[32m━━━━━━━━━━━━━━━━━━━━\u001b[0m\u001b[37m\u001b[0m \u001b[1m85s\u001b[0m 22ms/step - accuracy: 0.7160 - loss: 1.1315\n",
      "Epoch 64/100\n",
      "\u001b[1m3835/3835\u001b[0m \u001b[32m━━━━━━━━━━━━━━━━━━━━\u001b[0m\u001b[37m\u001b[0m \u001b[1m85s\u001b[0m 22ms/step - accuracy: 0.7142 - loss: 1.1342\n",
      "Epoch 65/100\n",
      "\u001b[1m3835/3835\u001b[0m \u001b[32m━━━━━━━━━━━━━━━━━━━━\u001b[0m\u001b[37m\u001b[0m \u001b[1m85s\u001b[0m 22ms/step - accuracy: 0.7177 - loss: 1.1269\n",
      "Epoch 66/100\n",
      "\u001b[1m3835/3835\u001b[0m \u001b[32m━━━━━━━━━━━━━━━━━━━━\u001b[0m\u001b[37m\u001b[0m \u001b[1m85s\u001b[0m 22ms/step - accuracy: 0.7161 - loss: 1.1251\n",
      "Epoch 67/100\n",
      "\u001b[1m3835/3835\u001b[0m \u001b[32m━━━━━━━━━━━━━━━━━━━━\u001b[0m\u001b[37m\u001b[0m \u001b[1m85s\u001b[0m 22ms/step - accuracy: 0.7180 - loss: 1.1172\n",
      "Epoch 68/100\n",
      "\u001b[1m3835/3835\u001b[0m \u001b[32m━━━━━━━━━━━━━━━━━━━━\u001b[0m\u001b[37m\u001b[0m \u001b[1m85s\u001b[0m 22ms/step - accuracy: 0.7198 - loss: 1.1156\n",
      "Epoch 69/100\n",
      "\u001b[1m3835/3835\u001b[0m \u001b[32m━━━━━━━━━━━━━━━━━━━━\u001b[0m\u001b[37m\u001b[0m \u001b[1m85s\u001b[0m 22ms/step - accuracy: 0.7179 - loss: 1.1121\n",
      "Epoch 70/100\n",
      "\u001b[1m3835/3835\u001b[0m \u001b[32m━━━━━━━━━━━━━━━━━━━━\u001b[0m\u001b[37m\u001b[0m \u001b[1m85s\u001b[0m 22ms/step - accuracy: 0.7214 - loss: 1.1072\n",
      "Epoch 71/100\n",
      "\u001b[1m3835/3835\u001b[0m \u001b[32m━━━━━━━━━━━━━━━━━━━━\u001b[0m\u001b[37m\u001b[0m \u001b[1m85s\u001b[0m 22ms/step - accuracy: 0.7196 - loss: 1.1095\n",
      "Epoch 71: early stopping\n"
     ]
    }
   ],
   "source": [
    "history=model.fit(x,y,epochs=100, batch_size=50, callbacks=callback)  #, validation_data=(x_test,y_test)"
   ]
  },
  {
   "cell_type": "code",
   "execution_count": 33,
   "metadata": {
    "id": "HjNG3C7lnvMx"
   },
   "outputs": [
    {
     "data": {
      "image/png": "[encoded data removed]",
      "text/plain": [
       "<Figure size 640x480 with 1 Axes>"
      ]
     },
     "metadata": {},
     "output_type": "display_data"
    }
   ],
   "source": [
    "plt.plot(history.history[\"accuracy\"],color=\"red\",label=\"train\")\n",
    "plt.title('Model Accuracy')\n",
    "plt.ylabel('Accuracy')\n",
    "plt.xlabel('Epoch')\n",
    "plt.legend()\n",
    "plt.show()"
   ]
  },
  {
   "cell_type": "code",
   "execution_count": 34,
   "metadata": {
    "id": "ckR2cIGeoeo_"
   },
   "outputs": [
    {
     "data": {
      "image/png": "[encoded data removed]",
      "text/plain": [
       "<Figure size 640x480 with 1 Axes>"
      ]
     },
     "metadata": {},
     "output_type": "display_data"
    }
   ],
   "source": [
    "plt.plot(history.history[\"loss\"],color=\"red\",label=\"train\")\n",
    "plt.title('loss function')\n",
    "plt.ylabel('loss')\n",
    "plt.xlabel('Epoch')\n",
    "plt.legend()\n",
    "plt.show()"
   ]
  },
  {
   "cell_type": "markdown",
   "metadata": {},
   "source": [
    "Predicting next word using this trained model."
   ]
  },
  {
   "cell_type": "code",
   "execution_count": 36,
   "metadata": {},
   "outputs": [],
   "source": [
    "def predict_next(inp_text):\n",
    "    token_line=token.texts_to_sequences([inp_text])[0]\n",
    "    token_len=len(token_line)\n",
    "    if token_len<x_col:\n",
    "        input=pad_sequences([token_line],maxlen=x_col, padding=\"pre\")\n",
    "    elif token_len>x_col:\n",
    "        input=token_line[-x_col:]\n",
    "    else:\n",
    "        input=token_line\n",
    "    pred=model.predict(np.array([input]))\n",
    "    predict_index=np.argmax(pred)\n",
    "    for word,index in token.word_index.items():\n",
    "        if index==predict_index:\n",
    "            print(word)\n",
    "    return"
   ]
  },
  {
   "cell_type": "code",
   "execution_count": 37,
   "metadata": {},
   "outputs": [
    {
     "name": "stdout",
     "output_type": "stream",
     "text": [
      "\u001b[1m1/1\u001b[0m \u001b[32m━━━━━━━━━━━━━━━━━━━━\u001b[0m\u001b[37m\u001b[0m \u001b[1m0s\u001b[0m 282ms/step\n",
      "the\n"
     ]
    }
   ],
   "source": [
    "predict_next(\"stood the statue of\")"
   ]
  },
  {
   "cell_type": "markdown",
   "metadata": {},
   "source": [
    "The original line was \"...stood the statue of the Happy Prince.\""
   ]
  },
  {
   "cell_type": "code",
   "execution_count": 39,
   "metadata": {},
   "outputs": [
    {
     "name": "stdout",
     "output_type": "stream",
     "text": [
      "\u001b[1m1/1\u001b[0m \u001b[32m━━━━━━━━━━━━━━━━━━━━\u001b[0m\u001b[37m\u001b[0m \u001b[1m0s\u001b[0m 31ms/step\n",
      "came\n"
     ]
    }
   ],
   "source": [
    "predict_next(\"when they finally plodded\")"
   ]
  },
  {
   "cell_type": "markdown",
   "metadata": {},
   "source": [
    "The original line was \"...when they finally plodded home.\" "
   ]
  },
  {
   "cell_type": "code",
   "execution_count": 41,
   "metadata": {},
   "outputs": [
    {
     "name": "stdout",
     "output_type": "stream",
     "text": [
      "\u001b[1m1/1\u001b[0m \u001b[32m━━━━━━━━━━━━━━━━━━━━\u001b[0m\u001b[37m\u001b[0m \u001b[1m0s\u001b[0m 16ms/step\n",
      "as\n"
     ]
    }
   ],
   "source": [
    "predict_next(\"He is as beautiful\")"
   ]
  },
  {
   "cell_type": "markdown",
   "metadata": {},
   "source": [
    "The original line was \"...He is as beautiful as a weathercock...\""
   ]
  },
  {
   "cell_type": "markdown",
   "metadata": {},
   "source": [
    "So, this model is not predicting very well. The training accuracy is 71.96% which is not so good. \n",
    "However, we can use larger dataset and also more LSTM layers to get good accuracy and prediction if the system's capacity permits."
   ]
  }
 ],
 "metadata": {
  "colab": {
   "provenance": []
  },
  "kernelspec": {
   "display_name": "Python 3 (ipykernel)",
   "language": "python",
   "name": "python3"
  },
  "language_info": {
   "codemirror_mode": {
    "name": "ipython",
    "version": 3
   },
   "file_extension": ".py",
   "mimetype": "text/x-python",
   "name": "python",
   "nbconvert_exporter": "python",
   "pygments_lexer": "ipython3",
   "version": "3.12.4"
  }
 },
 "nbformat": 4,
 "nbformat_minor": 4
}
